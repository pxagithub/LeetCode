{
 "cells": [
  {
   "cell_type": "markdown",
   "metadata": {},
   "source": [
    "# **9.回文数** <br/>\n",
    "给你一个整数 x ，如果 x 是一个回文整数，返回 true ；否则，返回 false 。\n",
    "回文数是指正序（从左向右）和倒序（从右向左）读都是一样的整数。\n",
    "例如，121 是回文，而 123 不是。"
   ]
  },
  {
   "cell_type": "code",
   "execution_count": 2,
   "metadata": {},
   "outputs": [
    {
     "name": "stdout",
     "output_type": "stream",
     "text": [
      "True\n",
      "False\n",
      "True\n"
     ]
    }
   ],
   "source": [
    "# 9.回文数\n",
    "class Solution:\n",
    "    def isPalindrome(self, x: int) -> bool:\n",
    "        str1=str(x) # 将整数转换为字符串\n",
    "        str2=str1[::-1] # 反转字符串\n",
    "        return str1==str2\n",
    "\n",
    "print(Solution().isPalindrome(121))\n",
    "print(Solution().isPalindrome(-121))\n",
    "print(Solution().isPalindrome(2345432))\n"
   ]
  },
  {
   "cell_type": "markdown",
   "metadata": {},
   "source": [
    "# 13.罗马数字转整数  \n",
    "罗马数字包含以下七种字符: I， V， X， L，C，D 和 M。\n",
    "\n",
    "|字符  | 数值 |\n",
    "| --- | --- |\n",
    "|I|1|\n",
    "|V|5|\n",
    "|X|10|\n",
    "|L|50|\n",
    "|C|100|\n",
    "|D|500|\n",
    "|M|1000|  \n",
    "\n",
    "例如， 罗马数字 2 写做 II ，即为两个并列的 1 。12 写做 XII ，即为 X + II 。 27 写做  XXVII, 即为 XX + V + II 。\n",
    "\n",
    "通常情况下，罗马数字中小的数字在大的数字的右边。但也存在特例，例如 4 不写做 IIII，而是 IV。数字 1 在数字 5 的左边，所表示的数等于大数 5 减小数 1 得到的数值 4 。同样地，数字 9 表示为 IX。这个特殊的规则只适用于以下六种情况：\n",
    "\n",
    "I 可以放在 V (5) 和 X (10) 的左边，来表示 4 和 9。\n",
    "X 可以放在 L (50) 和 C (100) 的左边，来表示 40 和 90。 \n",
    "C 可以放在 D (500) 和 M (1000) 的左边，来表示 400 和 900。"
   ]
  },
  {
   "cell_type": "code",
   "execution_count": 1,
   "metadata": {},
   "outputs": [
    {
     "name": "stdout",
     "output_type": "stream",
     "text": [
      "3\n",
      "4\n",
      "9\n",
      "58\n",
      "1994\n"
     ]
    }
   ],
   "source": [
    "class Solution:\n",
    "    def romanToInt(self, s: str) -> int:\n",
    "        dic={'I':1,'V':5,'X':10,'L':50,'C':100,'D':500,'M':1000}\n",
    "        res=0\n",
    "        for i in range(len(s)):\n",
    "            if i>0 and dic[s[i]]>dic[s[i-1]]:\n",
    "                res+=dic[s[i]]-2*dic[s[i-1]]\n",
    "            else: \n",
    "                res+=dic[s[i]]\n",
    "        return res\n",
    "\n",
    "print(Solution().romanToInt('III'))\n",
    "print(Solution().romanToInt('IV'))\n",
    "print(Solution().romanToInt('IX'))\n",
    "print(Solution().romanToInt('LVIII'))\n",
    "print(Solution().romanToInt('MCMXCIV'))\n"
   ]
  }
 ],
 "metadata": {
  "interpreter": {
   "hash": "b3ba2566441a7c06988d0923437866b63cedc61552a5af99d1f4fb67d367b25f"
  },
  "kernelspec": {
   "display_name": "Python 3.9.7 ('base')",
   "language": "python",
   "name": "python3"
  },
  "language_info": {
   "codemirror_mode": {
    "name": "ipython",
    "version": 3
   },
   "file_extension": ".py",
   "mimetype": "text/x-python",
   "name": "python",
   "nbconvert_exporter": "python",
   "pygments_lexer": "ipython3",
   "version": "3.9.7"
  },
  "orig_nbformat": 4
 },
 "nbformat": 4,
 "nbformat_minor": 2
}
